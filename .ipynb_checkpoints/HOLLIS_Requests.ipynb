{
 "cells": [
  {
   "cell_type": "code",
   "execution_count": 70,
   "metadata": {
    "collapsed": false
   },
   "outputs": [
    {
     "name": "stdout",
     "output_type": "stream",
     "text": [
      "*AC95.Up174R3.1971 (A) \n",
      "*AC95.Up174R3.1971 (B) \n",
      "AC95.Up174R3.1971 (C) \n",
      "PS3571.P4 R27 1971 \n",
      "PS3571.P4 R27x 1971 \n",
      "ALB 7214.321.20 \n"
     ]
    }
   ],
   "source": [
    "import xml.etree.ElementTree as ET\n",
    "import urllib.request\n",
    "\n",
    "url = ('http://webservices.lib.harvard.edu/rest/v2/classic/holdings/001252867')\n",
    "\n",
    "data = urllib.request.urlopen(url).read()\n",
    " \n",
    "root = ET.fromstring(data)\n",
    "    \n",
    "callNo = root.iter('callnumber')\n",
    "#allElem = root.iter()\n",
    "#print (len(allElem))\n",
    "#.find .findall .iter ... .get .text\n",
    "for item in callNo:\n",
    "        print (item.text)"
   ]
  },
  {
   "cell_type": "code",
   "execution_count": null,
   "metadata": {
    "collapsed": true
   },
   "outputs": [],
   "source": []
  },
  {
   "cell_type": "code",
   "execution_count": null,
   "metadata": {
    "collapsed": true
   },
   "outputs": [],
   "source": []
  }
 ],
 "metadata": {
  "kernelspec": {
   "display_name": "Python 3",
   "language": "python",
   "name": "python3"
  },
  "language_info": {
   "codemirror_mode": {
    "name": "ipython",
    "version": 3
   },
   "file_extension": ".py",
   "mimetype": "text/x-python",
   "name": "python",
   "nbconvert_exporter": "python",
   "pygments_lexer": "ipython3",
   "version": "3.5.1"
  }
 },
 "nbformat": 4,
 "nbformat_minor": 0
}
